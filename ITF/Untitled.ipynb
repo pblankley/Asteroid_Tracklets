{
 "cells": [
  {
   "cell_type": "code",
   "execution_count": 1,
   "metadata": {
    "collapsed": true
   },
   "outputs": [],
   "source": [
    "import numpy as np\n",
    "from scipy import linalg\n",
    "import matplotlib.pyplot as plt"
   ]
  },
  {
   "cell_type": "code",
   "execution_count": 2,
   "metadata": {
    "collapsed": true
   },
   "outputs": [],
   "source": [
    "c1, c2 = 5.0, 2.0\n",
    "i = np.r_[1:11]\n",
    "xi = 0.1*i\n",
    "yi = c1*np.exp(-xi) + c2*xi\n",
    "zi = yi + 0.05 * np.max(yi) * np.random.randn(len(yi))"
   ]
  },
  {
   "cell_type": "code",
   "execution_count": 3,
   "metadata": {
    "collapsed": false
   },
   "outputs": [
    {
     "data": {
      "text/plain": [
       "array([ 1,  2,  3,  4,  5,  6,  7,  8,  9, 10])"
      ]
     },
     "execution_count": 3,
     "metadata": {},
     "output_type": "execute_result"
    }
   ],
   "source": [
    "i"
   ]
  },
  {
   "cell_type": "code",
   "execution_count": 4,
   "metadata": {
    "collapsed": true
   },
   "outputs": [],
   "source": [
    "A = np.c_[np.exp(-xi)[:, np.newaxis], xi[:, np.newaxis]]\n",
    "c, resid, rank, sigma = linalg.lstsq(A, zi)"
   ]
  },
  {
   "cell_type": "code",
   "execution_count": 13,
   "metadata": {
    "collapsed": false
   },
   "outputs": [
    {
     "data": {
      "text/plain": [
       "array([[ 0.90483742,  0.1       ],\n",
       "       [ 0.81873075,  0.2       ],\n",
       "       [ 0.74081822,  0.3       ],\n",
       "       [ 0.67032005,  0.4       ],\n",
       "       [ 0.60653066,  0.5       ],\n",
       "       [ 0.54881164,  0.6       ],\n",
       "       [ 0.4965853 ,  0.7       ],\n",
       "       [ 0.44932896,  0.8       ],\n",
       "       [ 0.40656966,  0.9       ],\n",
       "       [ 0.36787944,  1.        ]])"
      ]
     },
     "execution_count": 13,
     "metadata": {},
     "output_type": "execute_result"
    }
   ],
   "source": [
    "A"
   ]
  },
  {
   "cell_type": "code",
   "execution_count": 5,
   "metadata": {
    "collapsed": false
   },
   "outputs": [
    {
     "data": {
      "text/plain": [
       "(array([ 5.1723208 ,  1.84366565]),\n",
       " 0.16029808871337431,\n",
       " 2,\n",
       " array([ 2.58763467,  1.02933937]))"
      ]
     },
     "execution_count": 5,
     "metadata": {},
     "output_type": "execute_result"
    }
   ],
   "source": [
    "c, resid, rank, sigma"
   ]
  },
  {
   "cell_type": "code",
   "execution_count": 7,
   "metadata": {
    "collapsed": true
   },
   "outputs": [],
   "source": [
    "xi2 = np.r_[0.1:1.0:100j]\n",
    "yi2 = c[0]*np.exp(-xi2) + c[1]*xi2"
   ]
  },
  {
   "cell_type": "code",
   "execution_count": 12,
   "metadata": {
    "collapsed": false
   },
   "outputs": [
    {
     "data": {
      "text/plain": [
       "array([ 4.86447596,  4.83888292,  4.81367316,  4.78884323,  4.76438967,\n",
       "        4.74030909,  4.71659812,  4.6932534 ,  4.67027162,  4.6476495 ,\n",
       "        4.62538378,  4.60347123,  4.58190867,  4.56069292,  4.53982085,\n",
       "        4.51928934,  4.49909531,  4.47923572,  4.45970752,  4.44050773,\n",
       "        4.42163337,  4.40308149,  4.38484919,  4.36693355,  4.34933173,\n",
       "        4.33204088,  4.31505819,  4.29838086,  4.28200613,  4.26593127,\n",
       "        4.25015356,  4.23467032,  4.21947887,  4.20457658,  4.18996082,\n",
       "        4.17562902,  4.16157859,  4.14780699,  4.1343117 ,  4.12109022,\n",
       "        4.10814007,  4.09545879,  4.08304395,  4.07089314,  4.05900397,\n",
       "        4.04737407,  4.0360011 ,  4.02488273,  4.01401666,  4.0034006 ,\n",
       "        3.99303228,  3.98290948,  3.97302997,  3.96339154,  3.95399201,\n",
       "        3.94482923,  3.93590105,  3.92720534,  3.91874   ,  3.91050295,\n",
       "        3.90249212,  3.89470547,  3.88714096,  3.87979659,  3.87267036,\n",
       "        3.8657603 ,  3.85906445,  3.85258088,  3.84630765,  3.84024288,\n",
       "        3.83438467,  3.82873116,  3.82328049,  3.81803082,  3.81298034,\n",
       "        3.80812724,  3.80346974,  3.79900607,  3.79473447,  3.7906532 ,\n",
       "        3.78676055,  3.78305481,  3.77953428,  3.77619729,  3.77304217,\n",
       "        3.77006729,  3.76727101,  3.76465171,  3.76220779,  3.75993767,\n",
       "        3.75783977,  3.75591254,  3.75415442,  3.7525639 ,  3.75113944,\n",
       "        3.74987956,  3.74878276,  3.74784756,  3.7470725 ,  3.74645613])"
      ]
     },
     "execution_count": 12,
     "metadata": {},
     "output_type": "execute_result"
    }
   ],
   "source": [
    "yi2"
   ]
  },
  {
   "cell_type": "code",
   "execution_count": 11,
   "metadata": {
    "collapsed": false
   },
   "outputs": [
    {
     "data": {
      "text/plain": [
       "(-10000+0j)"
      ]
     },
     "execution_count": 11,
     "metadata": {},
     "output_type": "execute_result"
    }
   ],
   "source": [
    "(100j)*(100j)"
   ]
  },
  {
   "cell_type": "code",
   "execution_count": 20,
   "metadata": {
    "collapsed": false
   },
   "outputs": [
    {
     "data": {
      "text/plain": [
       "array([[ 0.,  1.],\n",
       "       [ 1.,  1.],\n",
       "       [ 2.,  1.],\n",
       "       [ 3.,  1.],\n",
       "       [ 4.,  1.]])"
      ]
     },
     "execution_count": 20,
     "metadata": {},
     "output_type": "execute_result"
    }
   ],
   "source": [
    "x = np.array([0, 1, 2, 3, 4])\n",
    "y = np.array([-1, 0.2, 0.9, 2.1, 3])\n",
    "\n",
    "A = np.vstack([x, np.ones(len(x))]).T\n",
    "A\n"
   ]
  },
  {
   "cell_type": "code",
   "execution_count": 21,
   "metadata": {
    "collapsed": false
   },
   "outputs": [
    {
     "name": "stdout",
     "output_type": "stream",
     "text": [
      "0.99 -0.94\n"
     ]
    }
   ],
   "source": [
    "m, c = np.linalg.lstsq(A, y)[0]\n",
    "print(m, c)\n",
    "\n"
   ]
  },
  {
   "cell_type": "code",
   "execution_count": 22,
   "metadata": {
    "collapsed": false
   },
   "outputs": [
    {
     "data": {
      "text/plain": [
       "(array([ 0.99, -0.94]), array([ 0.051]), 2, array([ 5.78859314,  1.22155205]))"
      ]
     },
     "execution_count": 22,
     "metadata": {},
     "output_type": "execute_result"
    }
   ],
   "source": [
    "np.linalg.lstsq(A, y)"
   ]
  },
  {
   "cell_type": "code",
   "execution_count": 23,
   "metadata": {
    "collapsed": false
   },
   "outputs": [
    {
     "data": {
      "image/png": "[encoded data removed]",
      "text/plain": [
       "<matplotlib.figure.Figure at 0x10daa8b38>"
      ]
     },
     "metadata": {},
     "output_type": "display_data"
    }
   ],
   "source": [
    "plt.plot(x, y, 'o', label='Original data', markersize=10)\n",
    "plt.plot(x, m*x + c, 'r', label='Fitted line')\n",
    "plt.legend()\n",
    "plt.show()"
   ]
  },
  {
   "cell_type": "code",
   "execution_count": 24,
   "metadata": {
    "collapsed": false
   },
   "outputs": [
    {
     "data": {
      "text/plain": [
       "array([ 0.,  0.,  0.,  0.,  0.,  0.])"
      ]
     },
     "execution_count": 24,
     "metadata": {},
     "output_type": "execute_result"
    }
   ],
   "source": [
    "np.zeros(6)"
   ]
  },
  {
   "cell_type": "code",
   "execution_count": null,
   "metadata": {
    "collapsed": true
   },
   "outputs": [],
   "source": []
  }
 ],
 "metadata": {
  "anaconda-cloud": {},
  "kernelspec": {
   "display_name": "Python [default]",
   "language": "python",
   "name": "python3"
  },
  "language_info": {
   "codemirror_mode": {
    "name": "ipython",
    "version": 3
   },
   "file_extension": ".py",
   "mimetype": "text/x-python",
   "name": "python",
   "nbconvert_exporter": "python",
   "pygments_lexer": "ipython3",
   "version": "3.5.2"
  }
 },
 "nbformat": 4,
 "nbformat_minor": 1
}
