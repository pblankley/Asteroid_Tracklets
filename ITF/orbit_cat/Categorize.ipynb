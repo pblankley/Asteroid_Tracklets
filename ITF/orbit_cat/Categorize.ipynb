{
 "cells": [
  {
   "cell_type": "markdown",
   "metadata": {},
   "source": [
    "# Want to get some simple files to help with tracklet-clustering\n",
    "### In particular, want to create some lists of types-or-orbit, to help with sub-dividing the observational data in the Num & Unnum files\n",
    "##### Matthew J. Payne\n"
   ]
  },
  {
   "cell_type": "markdown",
   "metadata": {},
   "source": [
    "22 November 2017\n"
   ]
  },
  {
   "cell_type": "code",
   "execution_count": 5,
   "metadata": {
    "collapsed": false
   },
   "outputs": [],
   "source": [
    "%matplotlib inline\n",
    "import numpy as np\n",
    "import scipy.interpolate\n",
    "import matplotlib.gridspec as gridspec\n",
    "import matplotlib as mpl\n",
    "import matplotlib.cm as cm\n",
    "import matplotlib.pyplot as plt\n",
    "import pandas as pd\n",
    "pd.set_option('display.width', 500)\n",
    "pd.set_option('display.max_columns', 200)\n",
    "pd.set_option('display.notebook_repr_html', True)\n",
    "import math\n",
    "#import kepcart as kc\n",
    "import healpy as hp\n",
    "import collections\n",
    "import astropy\n",
    "import sys,os\n",
    "\n",
    "#import MPC_library"
   ]
  },
  {
   "cell_type": "markdown",
   "metadata": {
    "collapsed": false
   },
   "source": [
    "# There are data files available at:\n",
    "### http://www.minorplanetcenter.net/iau/MPCORB.html\n",
    "# Now we create code to read these files and create some useful lists \n",
    " - NEO_  \n",
    " - TNO_ \n",
    " - CEN_ (Centaurs) \n",
    " - COM_ (Comets)"
   ]
  },
  {
   "cell_type": "code",
   "execution_count": 19,
   "metadata": {
    "collapsed": false
   },
   "outputs": [],
   "source": [
    "Files_ = ['CometEls.txt','Distant.txt','NEA.txt','PHA.txt','Unusual.txt']\n",
    "\n",
    "def read_files(Files_):\n",
    "    data = {}\n",
    "    for f in Files_:\n",
    "        with open(f,'r') as fh:\n",
    "            data[f]=fh.readlines()\n",
    "    return data\n",
    "\n",
    "def parse_files(d__):\n",
    "    Desigs__ = {} \n",
    "    AEI__ = {} \n",
    "    for f,data in d__.items():\n",
    "        Desigs__[f] = [ line.split()[0] for line in data]\n",
    "        AEI__[f]    = [ (float(line.split()[10]),float(line.split()[8]),float(line.split()[7])) for line in data]\n",
    "    return Desigs__, AEI__\n",
    "\n",
    "def create_DesigLists(Desigs__, AEI__):\n",
    "    NEO_       = NEOs(Desigs__)\n",
    "    TNO_, CEN_ = DIST(Desigs__, AEI__)\n",
    "    COM_       = COMETs(Desigs__)\n",
    "    return NEO_, TNO_, CEN_, COM_\n",
    "\n",
    "def NEOs(D__):\n",
    "    D_ = []\n",
    "    for k,v in D__.items():\n",
    "        if k in ['NEA.txt','PHA.txt']:\n",
    "            D_.extend(v)\n",
    "    return D_\n",
    "\n",
    "def DIST(D__, AEI__):\n",
    "    TNO_ = []\n",
    "    CEN_ = []\n",
    "    for k,v in D__.items():\n",
    "        if k in ['Distant.txt']:\n",
    "            AEI = AEI__[k]\n",
    "            for D,aei in zip(v, AEI):\n",
    "                a,e,i = aei\n",
    "                if a > 30 and a*(1.-e) > 30:\n",
    "                    TNO_.append(D)\n",
    "                elif a*(1.-e) > 5 and a*(1.-e) < 30 :\n",
    "                    CEN_.append(D)\n",
    "                else:\n",
    "                    pass\n",
    "    return TNO_, CEN_\n",
    "\n",
    "def COMETs(D__):\n",
    "    return D__['CometEls.txt']\n",
    "            \n",
    "            "
   ]
  },
  {
   "cell_type": "code",
   "execution_count": 20,
   "metadata": {
    "collapsed": false
   },
   "outputs": [
    {
     "name": "stdout",
     "output_type": "stream",
     "text": [
      "18818\n",
      "1602\n",
      "431\n",
      "949\n"
     ]
    }
   ],
   "source": [
    "d__             = read_files(Files_)\n",
    "Desigs__ , AEI__ = parse_files(d__)\n",
    "NEO_, TNO_, CEN_, COM_ = create_DesigLists(Desigs__, AEI__)\n",
    "for item in [NEO_, TNO_, CEN_, COM_]:\n",
    "    print (len(item))"
   ]
  }
 ],
 "metadata": {
  "anaconda-cloud": {},
  "kernelspec": {
   "display_name": "Python [default]",
   "language": "python",
   "name": "python3"
  },
  "language_info": {
   "codemirror_mode": {
    "name": "ipython",
    "version": 3
   },
   "file_extension": ".py",
   "mimetype": "text/x-python",
   "name": "python",
   "nbconvert_exporter": "python",
   "pygments_lexer": "ipython3",
   "version": "3.5.2"
  }
 },
 "nbformat": 4,
 "nbformat_minor": 0
}
